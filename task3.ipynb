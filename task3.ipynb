{
  "metadata": {
    "language_info": {
      "name": ""
    },
    "kernelspec": {
      "name": "python",
      "display_name": "Python (Pyodide)",
      "language": "python"
    }
  },
  "nbformat_minor": 4,
  "nbformat": 4,
  "cells": [
    {
      "cell_type": "code",
      "source": "# import required modules\nimport turtle\nimport time\nimport random\n\ndelay = 0.1\nscore = 0\nhigh_score = 0\n\n\n# Creating a window screen\nwn = turtle.Screen()\nwn.title(\"Snake Game\")\nwn.bgcolor(\"blue\")\n# the width and height can be put as user's choice\nwn.setup(width=600, height=600)\nwn.tracer(0)\n\n# head of the snake\nhead = turtle.Turtle()\nhead.shape(\"square\")\nhead.color(\"white\")\nhead.penup()\nhead.goto(0, 0)\nhead.direction = \"Stop\"\n\n# food in the game\nfood = turtle.Turtle()\ncolors = random.choice(['red', 'green', 'black'])\nshapes = random.choice(['square', 'triangle', 'circle'])\nfood.speed(0)\nfood.shape(shapes)\nfood.color(colors)\nfood.penup()\nfood.goto(0, 100)\n\npen = turtle.Turtle()\npen.speed(0)\npen.shape(\"square\")\npen.color(\"white\")\npen.penup()\npen.hideturtle()\npen.goto(0, 250)\npen.write(\"Score : 0 High Score : 0\", align=\"center\",\n\t\tfont=(\"candara\", 24, \"bold\"))\n\n\n# assigning key directions\ndef group():\n\tif head.direction != \"down\":\n\t\thead.direction = \"up\"\n\n\ndef godown():\n\tif head.direction != \"up\":\n\t\thead.direction = \"down\"\n\n\ndef goleft():\n\tif head.direction != \"right\":\n\t\thead.direction = \"left\"\n\n\ndef goright():\n\tif head.direction != \"left\":\n\t\thead.direction = \"right\"\n\n\ndef move():\n\tif head.direction == \"up\":\n\t\ty = head.ycor()\n\t\thead.sety(y+20)\n\tif head.direction == \"down\":\n\t\ty = head.ycor()\n\t\thead.sety(y-20)\n\tif head.direction == \"left\":\n\t\tx = head.xcor()\n\t\thead.setx(x-20)\n\tif head.direction == \"right\":\n\t\tx = head.xcor()\n\t\thead.setx(x+20)\n\n\nwn.listen()\nwn.onkeypress(group, \"w\")\nwn.onkeypress(godown, \"s\")\nwn.onkeypress(goleft, \"a\")\nwn.onkeypress(goright, \"d\")\n\nsegments = []\n\n\n# Main Gameplay\nwhile True:\n\twn.update()\n\tif head.xcor() > 290 or head.xcor() < -290 or head.ycor() > 290 or head.ycor() < -290:\n\t\ttime.sleep(1)\n\t\thead.goto(0, 0)\n\t\thead.direction = \"Stop\"\n\t\tcolors = random.choice(['red', 'blue', 'green'])\n\t\tshapes = random.choice(['square', 'circle'])\n\t\tfor segment in segments:\n\t\t\tsegment.goto(1000, 1000)\n\t\tsegments.clear()\n\t\tscore = 0\n\t\tdelay = 0.1\n\t\tpen.clear()\n\t\tpen.write(\"Score : {} High Score : {} \".format(\n\t\t\tscore, high_score), align=\"center\", font=(\"candara\", 24, \"bold\"))\n\tif head.distance(food) < 20:\n\t\tx = random.randint(-270, 270)\n\t\ty = random.randint(-270, 270)\n\t\tfood.goto(x, y)\n\n\t\t# Adding segment\n\t\tnew_segment = turtle.Turtle()\n\t\tnew_segment.speed(0)\n\t\tnew_segment.shape(\"square\")\n\t\tnew_segment.color(\"orange\") # tail colour\n\t\tnew_segment.penup()\n\t\tsegments.append(new_segment)\n\t\tdelay -= 0.001\n\t\tscore += 10\n\t\tif score > high_score:\n\t\t\thigh_score = score\n\t\tpen.clear()\n\t\tpen.write(\"Score : {} High Score : {} \".format(\n\t\t\tscore, high_score), align=\"center\", font=(\"candara\", 24, \"bold\"))\n\t# Checking for head collisions with body segments\n\tfor index in range(len(segments)-1, 0, -1):\n\t\tx = segments[index-1].xcor()\n\t\ty = segments[index-1].ycor()\n\t\tsegments[index].goto(x, y)\n\tif len(segments) > 0:\n\t\tx = head.xcor()\n\t\ty = head.ycor()\n\t\tsegments[0].goto(x, y)\n\tmove()\n\tfor segment in segments:\n\t\tif segment.distance(head) < 20:\n\t\t\ttime.sleep(1)\n\t\t\thead.goto(0, 0)\n\t\t\thead.direction = \"stop\"\n\t\t\tcolors = random.choice(['red', 'blue', 'green'])\n\t\t\tshapes = random.choice(['square', 'circle'])\n\t\t\tfor segment in segments:\n\t\t\t\tsegment.goto(1000, 1000)\n\t\t\tsegments.clear()\n\n\t\t\tscore = 0\n\t\t\tdelay = 0.1\n\t\t\tpen.clear()\n\t\t\tpen.write(\"Score : {} High Score : {} \".format(\n\t\t\t\tscore, high_score), align=\"center\", font=(\"candara\", 24, \"bold\"))\n\ttime.sleep(delay)\n\nwn.mainloop()",
      "metadata": {
        "trusted": true
      },
      "execution_count": null,
      "outputs": []
    },
    {
      "cell_type": "code",
      "source": "",
      "metadata": {},
      "execution_count": null,
      "outputs": []
    }
  ]
}